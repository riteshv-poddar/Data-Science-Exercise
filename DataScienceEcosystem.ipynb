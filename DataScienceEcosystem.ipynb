{
 "cells": [
  {
   "cell_type": "markdown",
   "id": "fcad3901-17a9-4b63-ab92-25a1b1936d9a",
   "metadata": {},
   "source": [
    "# Data Science Tools and Ecosystem"
   ]
  },
  {
   "cell_type": "markdown",
   "id": "a2cc05fe-982a-4788-b3b7-37a83525b356",
   "metadata": {
    "tags": []
   },
   "source": [
    "## Author\n",
    "Ritesh Poddar"
   ]
  },
  {
   "cell_type": "markdown",
   "id": "880bea77-f55b-4a73-aca5-9218a8eccda0",
   "metadata": {},
   "source": [
    "In this notebook, Data Science Tools and Ecosystem are summarized."
   ]
  },
  {
   "cell_type": "markdown",
   "id": "13edeee2-5a41-429f-a277-033138aee19f",
   "metadata": {},
   "source": [
    "**Objectives:**\n",
    "* List popular languages used for data science\n",
    "* List commonly used libraries used by data scientists\n",
    "* List commonly used open source data science tools\n",
    "* Example of a simple arithmetic example with multiplication, addition and division\n",
    "* Examples of using headings in a python markdown cell"
   ]
  },
  {
   "cell_type": "markdown",
   "id": "24e4d400-5f16-4d11-9bc2-d33852bf3956",
   "metadata": {},
   "source": [
    "Some of the popular languages that Data Scientists use are:\n",
    "1. Python\n",
    "2. R\n",
    "3. Scala\n",
    "4. Julia"
   ]
  },
  {
   "cell_type": "markdown",
   "id": "8773f2b9-4be7-4ac6-9fbe-98672076d01e",
   "metadata": {},
   "source": [
    "Some of the commonly used libraries used by Data Scientists include:\n",
    "1. Pandas\n",
    "2. Tensorflow\n",
    "3. Numpy\n",
    "4. dplyr\n",
    "5. stringr"
   ]
  },
  {
   "cell_type": "markdown",
   "id": "e1053251-69f3-448f-b100-d5451f0c9d26",
   "metadata": {},
   "source": [
    "|Data Science Tools|\n",
    "|------------------|\n",
    "|Jupyter|\n",
    "|R Studio|\n",
    "|VS Studio|"
   ]
  },
  {
   "cell_type": "markdown",
   "id": "6aa8f04b-60c7-4d6c-a348-340db9990c41",
   "metadata": {},
   "source": [
    "### Below are a few examples of evaluating arithmetic expressions in Python."
   ]
  },
  {
   "cell_type": "code",
   "execution_count": 1,
   "id": "33a42a44-2a87-4ced-a91b-1f80e4039eac",
   "metadata": {
    "tags": []
   },
   "outputs": [
    {
     "data": {
      "text/plain": [
       "17"
      ]
     },
     "execution_count": 1,
     "metadata": {},
     "output_type": "execute_result"
    }
   ],
   "source": [
    "# This a simple arithmetic expression to mutiply then add integers\n",
    "(3*4)+5"
   ]
  },
  {
   "cell_type": "code",
   "execution_count": 2,
   "id": "6f51adcf-9818-41de-88a6-738a8ba5d9ae",
   "metadata": {
    "tags": []
   },
   "outputs": [
    {
     "data": {
      "text/plain": [
       "3.3333333333333335"
      ]
     },
     "execution_count": 2,
     "metadata": {},
     "output_type": "execute_result"
    }
   ],
   "source": [
    "# This will convert 200 minutes to hours by diving by 60\n",
    "200/60"
   ]
  },
  {
   "cell_type": "code",
   "execution_count": null,
   "id": "dabd2dcc-050a-4ae7-995b-930e14d0fd62",
   "metadata": {},
   "outputs": [],
   "source": []
  }
 ],
 "metadata": {
  "kernelspec": {
   "display_name": "Python",
   "language": "python",
   "name": "conda-env-python-py"
  },
  "language_info": {
   "codemirror_mode": {
    "name": "ipython",
    "version": 3
   },
   "file_extension": ".py",
   "mimetype": "text/x-python",
   "name": "python",
   "nbconvert_exporter": "python",
   "pygments_lexer": "ipython3",
   "version": "3.7.12"
  }
 },
 "nbformat": 4,
 "nbformat_minor": 5
}
